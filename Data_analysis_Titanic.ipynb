{
 "cells": [
  {
   "cell_type": "markdown",
   "metadata": {},
   "source": [
    "<h1>Introduction</h1>\n",
    "<p>\n",
    "The sinking of the titanic occurred on the night of 14<sup>th</sup> April, 1912. It was the largest passenger liner in service at the time and had an estimated 2224 people on board when she had struck an iceberg around 2340 hours. Within hours, the ship was underwater. The accident resulted in the deaths of more than 1,500 people. The disaster caused widespread outrage over the lack of lifeboats, lax regulations, and the unequal treatment of the three passenger classes during the evacuation. \n",
    "</p>\n",
    "<h2>Objectives</h2>\n",
    "<p>\n",
    "To analyze the survivability rate based on the data provided and extrapolate other unexpected reasons for survival.\n",
    "</p>\n",
    "\n",
    "<h2>Data Wrangling</h2>\n",
    "\n",
    "<h3>Data description</h3>\n",
    "<div id=\"description\">\n",
    "(from https://www.kaggle.com/c/titanic)\n",
    "    <p>\n",
    "      <ul>\n",
    "        <li>survival: Survival (0 = No; 1 = Yes)</li>\n",
    "        <li>pclass: Passenger Class (1 = 1st; 2 = 2nd; 3 = 3rd)</li>\n",
    "        <li>name: Name</li>\n",
    "        <li>sex: Sex</li>\n",
    "        <li>age: Age</li>\n",
    "        <li>sibsp: Number of Siblings/Spouses Aboard</li>\n",
    "        <li>parch: Number of Parents/Children Aboard</li>\n",
    "        <li>ticket: Ticket Number</li>\n",
    "        <li>fare: Passenger Fare</li>\n",
    "        <li>cabin: Cabin</li>\n",
    "        <li>embarked: Port of Embarkation (C = Cherbourg; Q = Queenstown; S = Southampton)</li>\n",
    "      </ul>\n",
    "    </p>\n",
    "\n",
    "<h3>Special Notes:</h3>\n",
    "    <p>\n",
    "        <ul>\n",
    "            <li>Pclass is a proxy for socio-economic status (SES) 1st ~ Upper; 2nd ~ Middle; 3rd ~ Lower</li>\n",
    "            <li>Age is in Years; Fractional if Age less than One (1) If the Age is Estimated, it is in the form xx.5</li>\n",
    "        </ul>\n",
    "    </p>\n",
    "    <p>\n",
    "    With respect to the family relation variables (i.e. sibsp and parch) some relations were ignored. The following are the definitions used for sibsp and parch.\n",
    "    </p>\n",
    "    <p>\n",
    "        <ul>\n",
    "            <li>Sibling: Brother, Sister, Stepbrother, or Stepsister of Passenger Aboard Titanic </li>\n",
    "            <li>Spouse: Husband or Wife of Passenger Aboard Titanic (Mistresses and Fiances Ignored) </li>\n",
    "            <li>Parent: Mother or Father of Passenger Aboard Titanic </li>\n",
    "            <li>Child: Son, Daughter, Stepson, or Stepdaughter of Passenger Aboard Titanic </li>\n",
    "        </ul>\n",
    "    </p>\n",
    "    <p>\n",
    "    Other family relatives excluded from this study include cousins, nephews/nieces, aunts/uncles, and in-laws. Some children travelled only with a nanny, therefore parch=0 for them. As well, some travelled with very close friends or neighbors in a village, however, the definitions do not support such relations.\n",
    "    </p>\n",
    "</div>\n",
    "<h2>Initial questions</h2>\n",
    "<p>\n",
    "    <ol>\n",
    "        <li>What factors are positively related to survival?</li>\n",
    "        <li>Are there other factors that could affect survival?</li>\n",
    "    </ol>\n",
    "</p>"
   ]
  },
  {
   "cell_type": "code",
   "execution_count": 1,
   "metadata": {
    "collapsed": false
   },
   "outputs": [
    {
     "name": "stdout",
     "output_type": "stream",
     "text": [
      "Populating the interactive namespace from numpy and matplotlib\n"
     ]
    }
   ],
   "source": [
    "# Importing numpy, pandas for sorting data into matrices and matplot and seaborn libraries for visualization; \n",
    "import numpy as np\n",
    "import pandas as pd\n",
    "import matplotlib.pyplot as plt\n",
    "import seaborn as sns \n",
    "\n",
    "# present charts inline \n",
    "%pylab inline\n",
    "\n",
    "# setting style and background for all graphs\n",
    "sns.set(color_codes=True)\n",
    "sns.set_style(\"whitegrid\")"
   ]
  },
  {
   "cell_type": "code",
   "execution_count": 2,
   "metadata": {
    "collapsed": true
   },
   "outputs": [],
   "source": [
    "# Helper functions:\n",
    "\n",
    "# takes in target dataframe and plots correlation as heatmap\n",
    "def plot_correlation_map( df ):\n",
    "    corr = df.corr() # describes data in dataframe and stored in variable \n",
    "    _ , ax = plt.subplots( figsize =( 12 , 10 ) )\n",
    "    cmap = sns.diverging_palette( 220 , 10 , as_cmap = True ) # color of tiles\n",
    "    _ = sns.heatmap(\n",
    "        corr, \n",
    "        cmap = cmap,\n",
    "        square=True, \n",
    "        cbar_kws={ 'shrink' : .9 }, \n",
    "        ax=ax, \n",
    "        annot = True, \n",
    "        annot_kws = { 'fontsize' : 12 } \n",
    "    )\n",
    "\n",
    "# plots histogram of given dataframe; cat: data used for x-axis and target: data used for y-axis.\n",
    "# row and col can take arguments and display individual graphs based on argument vertically or horizontally respectively.\n",
    "def plot_categories( df, cat, target, **kwargs ):\n",
    "    row = kwargs.get( 'row', None )\n",
    "    col = kwargs.get( 'col', None )\n",
    "    facet = sns.FacetGrid( df, row = row, col = col) # sets up grid\n",
    "    facet.map( sns.barplot, cat, target) # displays bar graph\n",
    "    facet.add_legend()\n",
    "\n",
    "# plots histograms that displays the count of variable 1, with respect to the other variables and dataframe of interest\n",
    "# all variables need to be strings\n",
    "def graph_count_plotter (df, var1, var2, var3, **kwargs):\n",
    "    return sns.factorplot( \\\n",
    "    var1, col=var2, hue=var3, data=df, kind='count', size=7, aspect=.8)\n",
    "\n",
    "# plots kdeplot based on dataframe and variables. Different way of displaying data.\n",
    "def plot_distribution( df , var , target , **kwargs ):\n",
    "    row = kwargs.get( 'row' , None )\n",
    "    col = kwargs.get( 'col' , None )\n",
    "    facet = sns.FacetGrid( df , hue=target , aspect=4 , row = row , col = col )\n",
    "    facet.map( sns.kdeplot , var , shade= True ) # displays continuous plot \n",
    "    facet.set( xlim=( 0 , df[ var ].max() ) )\n",
    "    facet.add_legend()"
   ]
  },
  {
   "cell_type": "code",
   "execution_count": 3,
   "metadata": {
    "collapsed": false
   },
   "outputs": [
    {
     "data": {
      "text/html": [
       "<div>\n",
       "<table border=\"1\" class=\"dataframe\">\n",
       "  <thead>\n",
       "    <tr style=\"text-align: right;\">\n",
       "      <th></th>\n",
       "      <th>PassengerId</th>\n",
       "      <th>Survived</th>\n",
       "      <th>Pclass</th>\n",
       "      <th>Name</th>\n",
       "      <th>Sex</th>\n",
       "      <th>Age</th>\n",
       "      <th>SibSp</th>\n",
       "      <th>Parch</th>\n",
       "      <th>Ticket</th>\n",
       "      <th>Fare</th>\n",
       "      <th>Cabin</th>\n",
       "      <th>Embarked</th>\n",
       "    </tr>\n",
       "  </thead>\n",
       "  <tbody>\n",
       "    <tr>\n",
       "      <th>0</th>\n",
       "      <td>1</td>\n",
       "      <td>0</td>\n",
       "      <td>3</td>\n",
       "      <td>Braund, Mr. Owen Harris</td>\n",
       "      <td>male</td>\n",
       "      <td>22.0</td>\n",
       "      <td>1</td>\n",
       "      <td>0</td>\n",
       "      <td>A/5 21171</td>\n",
       "      <td>7.2500</td>\n",
       "      <td>NaN</td>\n",
       "      <td>S</td>\n",
       "    </tr>\n",
       "    <tr>\n",
       "      <th>1</th>\n",
       "      <td>2</td>\n",
       "      <td>1</td>\n",
       "      <td>1</td>\n",
       "      <td>Cumings, Mrs. John Bradley (Florence Briggs Th...</td>\n",
       "      <td>female</td>\n",
       "      <td>38.0</td>\n",
       "      <td>1</td>\n",
       "      <td>0</td>\n",
       "      <td>PC 17599</td>\n",
       "      <td>71.2833</td>\n",
       "      <td>C85</td>\n",
       "      <td>C</td>\n",
       "    </tr>\n",
       "    <tr>\n",
       "      <th>2</th>\n",
       "      <td>3</td>\n",
       "      <td>1</td>\n",
       "      <td>3</td>\n",
       "      <td>Heikkinen, Miss. Laina</td>\n",
       "      <td>female</td>\n",
       "      <td>26.0</td>\n",
       "      <td>0</td>\n",
       "      <td>0</td>\n",
       "      <td>STON/O2. 3101282</td>\n",
       "      <td>7.9250</td>\n",
       "      <td>NaN</td>\n",
       "      <td>S</td>\n",
       "    </tr>\n",
       "    <tr>\n",
       "      <th>3</th>\n",
       "      <td>4</td>\n",
       "      <td>1</td>\n",
       "      <td>1</td>\n",
       "      <td>Futrelle, Mrs. Jacques Heath (Lily May Peel)</td>\n",
       "      <td>female</td>\n",
       "      <td>35.0</td>\n",
       "      <td>1</td>\n",
       "      <td>0</td>\n",
       "      <td>113803</td>\n",
       "      <td>53.1000</td>\n",
       "      <td>C123</td>\n",
       "      <td>S</td>\n",
       "    </tr>\n",
       "    <tr>\n",
       "      <th>4</th>\n",
       "      <td>5</td>\n",
       "      <td>0</td>\n",
       "      <td>3</td>\n",
       "      <td>Allen, Mr. William Henry</td>\n",
       "      <td>male</td>\n",
       "      <td>35.0</td>\n",
       "      <td>0</td>\n",
       "      <td>0</td>\n",
       "      <td>373450</td>\n",
       "      <td>8.0500</td>\n",
       "      <td>NaN</td>\n",
       "      <td>S</td>\n",
       "    </tr>\n",
       "  </tbody>\n",
       "</table>\n",
       "</div>"
      ],
      "text/plain": [
       "   PassengerId  Survived  Pclass  \\\n",
       "0            1         0       3   \n",
       "1            2         1       1   \n",
       "2            3         1       3   \n",
       "3            4         1       1   \n",
       "4            5         0       3   \n",
       "\n",
       "                                                Name     Sex   Age  SibSp  \\\n",
       "0                            Braund, Mr. Owen Harris    male  22.0      1   \n",
       "1  Cumings, Mrs. John Bradley (Florence Briggs Th...  female  38.0      1   \n",
       "2                             Heikkinen, Miss. Laina  female  26.0      0   \n",
       "3       Futrelle, Mrs. Jacques Heath (Lily May Peel)  female  35.0      1   \n",
       "4                           Allen, Mr. William Henry    male  35.0      0   \n",
       "\n",
       "   Parch            Ticket     Fare Cabin Embarked  \n",
       "0      0         A/5 21171   7.2500   NaN        S  \n",
       "1      0          PC 17599  71.2833   C85        C  \n",
       "2      0  STON/O2. 3101282   7.9250   NaN        S  \n",
       "3      0            113803  53.1000  C123        S  \n",
       "4      0            373450   8.0500   NaN        S  "
      ]
     },
     "execution_count": 3,
     "metadata": {},
     "output_type": "execute_result"
    }
   ],
   "source": [
    "# loading titanic data as pandas dataframe\n",
    "titanic_df = pd.read_csv('titanic_data.csv')\n",
    "\n",
    "# data preview of full dataset\n",
    "titanic_df.head()\n"
   ]
  },
  {
   "cell_type": "markdown",
   "metadata": {},
   "source": [
    "<b>Note:</b> Some values for Age are NaN, while ticket and cabin values are alphanumeric and also missing values with NaN. \n"
   ]
  },
  {
   "cell_type": "markdown",
   "metadata": {},
   "source": [
    "<h1>Data Cleaning</h1>"
   ]
  },
  {
   "cell_type": "code",
   "execution_count": 4,
   "metadata": {
    "collapsed": false
   },
   "outputs": [
    {
     "name": "stdout",
     "output_type": "stream",
     "text": [
      "PassengerId      0\n",
      "Survived         0\n",
      "Pclass           0\n",
      "Name             0\n",
      "Sex              0\n",
      "Age            177\n",
      "SibSp            0\n",
      "Parch            0\n",
      "Ticket           0\n",
      "Fare             0\n",
      "Cabin          687\n",
      "Embarked         2\n",
      "dtype: int64\n",
      "    PassengerId  Survived  Pclass                           Name     Sex  Age  \\\n",
      "5             6         0       3               Moran, Mr. James    male  NaN   \n",
      "17           18         1       2   Williams, Mr. Charles Eugene    male  NaN   \n",
      "19           20         1       3        Masselmani, Mrs. Fatima  female  NaN   \n",
      "26           27         0       3        Emir, Mr. Farred Chehab    male  NaN   \n",
      "28           29         1       3  O'Dwyer, Miss. Ellen \"Nellie\"  female  NaN   \n",
      "\n",
      "    SibSp  Parch  Ticket     Fare Cabin Embarked  \n",
      "5       0      0  330877   8.4583   NaN        Q  \n",
      "17      0      0  244373  13.0000   NaN        S  \n",
      "19      0      0    2649   7.2250   NaN        C  \n",
      "26      0      0    2631   7.2250   NaN        C  \n",
      "28      0      0  330959   7.8792   NaN        Q  \n",
      "Number for females and males with age missing are 53 and 124 respectively\n"
     ]
    }
   ],
   "source": [
    "# determine number of missing values in cleaned data set\n",
    "total_null = titanic_df.isnull().sum()\n",
    "print total_null\n",
    "\n",
    "# determining number of missing age entries for males and females\n",
    "\n",
    "age_nans = pd.isnull(titanic_df['Age'])\n",
    "\n",
    "print titanic_df[age_nans].head()\n",
    "\n",
    "missing_age_female = titanic_df[age_nans]['Sex'] == 'female'\n",
    "missing_age_male = titanic_df[age_nans]['Sex'] == 'male'\n",
    "\n",
    "print 'Number for females and males with age missing are {} and {} respectively'.format(\n",
    "    missing_age_female.sum(),missing_age_male.sum())\n"
   ]
  },
  {
   "cell_type": "markdown",
   "metadata": {},
   "source": [
    "<p>177 null age items were detected in the given dataset, which accounts for ~20% of the total number of passengers recorded in this data. It will not affect the graphing and summation operations on the data as it is treated as a zero(0) value, but it needs to be considered while reviewing descriptive stats like average (mean) age. </p>\n",
    "<p> \n",
    "<b>Note:</b>\n",
    "<br>\n",
    "Number of female passengers whose age is missing - <b>124</b>\n",
    "<br>\n",
    "Number of male passengers whose age is missing - <b>53</b>\n",
    "</p>"
   ]
  },
  {
   "cell_type": "markdown",
   "metadata": {},
   "source": [
    "<p>The null values were replaced with median of the age rather than the mean or zero so that during the calculation of the mean so as to avoid any skewed values. \n",
    "</p>"
   ]
  },
  {
   "cell_type": "code",
   "execution_count": 5,
   "metadata": {
    "collapsed": false
   },
   "outputs": [
    {
     "name": "stdout",
     "output_type": "stream",
     "text": [
      "28.0\n",
      "Empty DataFrame\n",
      "Columns: [Survived, Pclass, Sex, Age, SibSp, Parch, Fare]\n",
      "Index: []\n"
     ]
    }
   ],
   "source": [
    "# Cleaning data: Removing items that do not contribute to survival analysis\n",
    "\n",
    "# Dropping information that does not pertain to current questions\n",
    "# cleaned data will contain int variables and are chosen to make it easier to describe data.\n",
    "\n",
    "titanic_cleaned = titanic_df.drop(['Cabin','Name','Ticket','PassengerId','Embarked'], axis=1)\n",
    "\n",
    "# replacing Nans\n",
    "median_age = titanic_cleaned['Age'].median()\n",
    "\n",
    "print median_age\n",
    "\n",
    "titanic_without_nan = titanic_cleaned.fillna(median_age)\n",
    "\n",
    "age_nans = pd.isnull(titanic_without_nan['Age'])\n",
    "print titanic_without_nan[age_nans].head() # checking if data-frame has any null values.\n"
   ]
  },
  {
   "cell_type": "code",
   "execution_count": 6,
   "metadata": {
    "collapsed": false,
    "scrolled": true
   },
   "outputs": [
    {
     "data": {
      "text/html": [
       "<div>\n",
       "<table border=\"1\" class=\"dataframe\">\n",
       "  <thead>\n",
       "    <tr style=\"text-align: right;\">\n",
       "      <th></th>\n",
       "      <th>Survived</th>\n",
       "      <th>Pclass</th>\n",
       "      <th>Age</th>\n",
       "      <th>SibSp</th>\n",
       "      <th>Parch</th>\n",
       "      <th>Fare</th>\n",
       "    </tr>\n",
       "  </thead>\n",
       "  <tbody>\n",
       "    <tr>\n",
       "      <th>count</th>\n",
       "      <td>891.000000</td>\n",
       "      <td>891.000000</td>\n",
       "      <td>891.000000</td>\n",
       "      <td>891.000000</td>\n",
       "      <td>891.000000</td>\n",
       "      <td>891.000000</td>\n",
       "    </tr>\n",
       "    <tr>\n",
       "      <th>mean</th>\n",
       "      <td>0.383838</td>\n",
       "      <td>2.308642</td>\n",
       "      <td>29.361582</td>\n",
       "      <td>0.523008</td>\n",
       "      <td>0.381594</td>\n",
       "      <td>32.204208</td>\n",
       "    </tr>\n",
       "    <tr>\n",
       "      <th>std</th>\n",
       "      <td>0.486592</td>\n",
       "      <td>0.836071</td>\n",
       "      <td>13.019697</td>\n",
       "      <td>1.102743</td>\n",
       "      <td>0.806057</td>\n",
       "      <td>49.693429</td>\n",
       "    </tr>\n",
       "    <tr>\n",
       "      <th>min</th>\n",
       "      <td>0.000000</td>\n",
       "      <td>1.000000</td>\n",
       "      <td>0.420000</td>\n",
       "      <td>0.000000</td>\n",
       "      <td>0.000000</td>\n",
       "      <td>0.000000</td>\n",
       "    </tr>\n",
       "    <tr>\n",
       "      <th>25%</th>\n",
       "      <td>0.000000</td>\n",
       "      <td>2.000000</td>\n",
       "      <td>22.000000</td>\n",
       "      <td>0.000000</td>\n",
       "      <td>0.000000</td>\n",
       "      <td>7.910400</td>\n",
       "    </tr>\n",
       "    <tr>\n",
       "      <th>50%</th>\n",
       "      <td>0.000000</td>\n",
       "      <td>3.000000</td>\n",
       "      <td>28.000000</td>\n",
       "      <td>0.000000</td>\n",
       "      <td>0.000000</td>\n",
       "      <td>14.454200</td>\n",
       "    </tr>\n",
       "    <tr>\n",
       "      <th>75%</th>\n",
       "      <td>1.000000</td>\n",
       "      <td>3.000000</td>\n",
       "      <td>35.000000</td>\n",
       "      <td>1.000000</td>\n",
       "      <td>0.000000</td>\n",
       "      <td>31.000000</td>\n",
       "    </tr>\n",
       "    <tr>\n",
       "      <th>max</th>\n",
       "      <td>1.000000</td>\n",
       "      <td>3.000000</td>\n",
       "      <td>80.000000</td>\n",
       "      <td>8.000000</td>\n",
       "      <td>6.000000</td>\n",
       "      <td>512.329200</td>\n",
       "    </tr>\n",
       "  </tbody>\n",
       "</table>\n",
       "</div>"
      ],
      "text/plain": [
       "         Survived      Pclass         Age       SibSp       Parch        Fare\n",
       "count  891.000000  891.000000  891.000000  891.000000  891.000000  891.000000\n",
       "mean     0.383838    2.308642   29.361582    0.523008    0.381594   32.204208\n",
       "std      0.486592    0.836071   13.019697    1.102743    0.806057   49.693429\n",
       "min      0.000000    1.000000    0.420000    0.000000    0.000000    0.000000\n",
       "25%      0.000000    2.000000   22.000000    0.000000    0.000000    7.910400\n",
       "50%      0.000000    3.000000   28.000000    0.000000    0.000000   14.454200\n",
       "75%      1.000000    3.000000   35.000000    1.000000    0.000000   31.000000\n",
       "max      1.000000    3.000000   80.000000    8.000000    6.000000  512.329200"
      ]
     },
     "execution_count": 6,
     "metadata": {},
     "output_type": "execute_result"
    }
   ],
   "source": [
    "titanic_without_nan.describe()"
   ]
  },
  {
   "cell_type": "code",
   "execution_count": 7,
   "metadata": {
    "collapsed": false
   },
   "outputs": [
    {
     "data": {
      "image/png": "[encoded data removed]",
      "text/plain": [
       "<matplotlib.figure.Figure at 0xb775f60>"
      ]
     },
     "metadata": {},
     "output_type": "display_data"
    }
   ],
   "source": [
    "# correlation heatmap\n",
    "correlated_variables = titanic_without_nan.corr()\n",
    "plot_correlation_map(correlated_variables)\n",
    "\n",
    "# heatmap shows important variables for consideration. \n",
    "# based on plot, positive correlation between survival and fare, \n",
    "# and negative correlation between survival and class. "
   ]
  },
  {
   "cell_type": "markdown",
   "metadata": {},
   "source": [
    "Let's investigate the correlation between the several variables presented in the dataset. The heatmap in the cell above shows positive correlation between survivability and age, whereas there is a negative correlation between class and survival. Initial observations suggest that we should investigate the following :\n",
    "<h2>Questions</h2>\n",
    "<p>\n",
    "Q1. Are there any biases based on gender and class in the survivability of the passenger ? <br>\n",
    "Q2. Does a family or individual have a higher chance to survive this catastrophe? <br>\n",
    "Q3. Was there increased survivability based on age? \n",
    "</p>\n",
    "<p>\n",
    "Other questions that could be derived from this analysis: <br>\n",
    "Q4. Was there any relation between the survivors and location from where the travellers originated (embarked)? <br>\n",
    "Q5. Is it possible a certain section of the ship was able to survive the accident better than others? <br>\n",
    "</p>"
   ]
  },
  {
   "cell_type": "code",
   "execution_count": 8,
   "metadata": {
    "collapsed": false
   },
   "outputs": [
    {
     "name": "stdout",
     "output_type": "stream",
     "text": [
      "Survivors of Pclass: 1 and Sex: male are 36.89%\n",
      "Survivors of Pclass: 1 and Sex: female are 96.81%\n",
      "Survivors of Pclass: 2 and Sex: male are 15.74%\n",
      "Survivors of Pclass: 2 and Sex: female are 92.11%\n",
      "Survivors of Pclass: 3 and Sex: male are 13.54%\n",
      "Survivors of Pclass: 3 and Sex: female are 50.0%\n"
     ]
    }
   ],
   "source": [
    "# prints survival percentage values based on gender and class. It takes in dataframe(df) and 2 variables that defines\n",
    "# how the df will be grouped and will perform calculations appropriately.\n",
    "\n",
    "def percent_survivors( df , var1 , var2 ):\n",
    "    n = 0\n",
    "    sex = ['male','female']\n",
    "    pclass = [1,2,3]\n",
    "    df_survived = df[df['Survived']==True]\n",
    "    for item in pclass:\n",
    "        for gender in sex:\n",
    "            grouped_class_gender = df.groupby([var1,var2]).size()[item,gender].astype('float') \n",
    "            survived_class_gender = df_survived.groupby([var1,var2]).size()[item,gender].astype('float')\n",
    "            survivors_by_gender = ((survived_class_gender/grouped_class_gender) * 100).round(2)\n",
    "            print \"Survivors of {}: {} and {}: {} are {}%\".format(var1,item,var2,gender,survivors_by_gender)\n",
    "percent_survivors (titanic_without_nan,'Pclass','Sex')\n",
    "# print percent_survivors(titanic_without_nan, 1 , 'male')"
   ]
  },
  {
   "cell_type": "code",
   "execution_count": 9,
   "metadata": {
    "collapsed": false
   },
   "outputs": [
    {
     "name": "stdout",
     "output_type": "stream",
     "text": [
      "Total number of survivors based on class and sex: \n",
      "Pclass  Sex     Survived\n",
      "1       female  0             3.0\n",
      "                1            91.0\n",
      "        male    0            77.0\n",
      "                1            45.0\n",
      "2       female  0             6.0\n",
      "                1            70.0\n",
      "        male    0            91.0\n",
      "                1            17.0\n",
      "3       female  0            72.0\n",
      "                1            72.0\n",
      "        male    0           300.0\n",
      "                1            47.0\n",
      "dtype: float64\n"
     ]
    },
    {
     "data": {
      "text/plain": [
       "<seaborn.axisgrid.FacetGrid at 0xb994550>"
      ]
     },
     "execution_count": 9,
     "metadata": {},
     "output_type": "execute_result"
    },
    {
     "data": {
      "image/png": "[encoded data removed]",
      "text/plain": [
       "<matplotlib.figure.Figure at 0xbae35c0>"
      ]
     },
     "metadata": {},
     "output_type": "display_data"
    }
   ],
   "source": [
    "survived_class_gender = titanic_without_nan.groupby(['Pclass','Sex','Survived']).size().astype('float')\n",
    "\n",
    "print \"Total number of survivors based on class and sex: \\n{}\".format(survived_class_gender)\n",
    "\n",
    "# Investiage total number of survivors based on class\n",
    "\n",
    "g = graph_count_plotter(titanic_without_nan,'Survived','Sex','Pclass')\n",
    "# survival_count_sex_class = sns.factorplot( \\\n",
    "#     'Survived', col='Sex', hue='Pclass', data=titanic_without_nan, kind='count', size=7, aspect=.8)\n",
    "\n",
    "(g.set_axis_labels('Survivors','No. of passengers')\n",
    "    .set_xticklabels(['False','True'])\n",
    "    .set_titles('{col_name}'))\n"
   ]
  },
  {
   "cell_type": "markdown",
   "metadata": {},
   "source": [
    "<p>Based on the raw numbers it would appear as though passengers in Class 3 category had a similar survival rate as those from Class 1 category with 119 and 136 passengers surviving respectively. However, if we look closely at the percentages of the overall passengers per class and the total numbers across each class, it can be assumed that a passenger from Class 1 is about <b>2.5x</b> times more likely to survive than a passenger in Class 3.</p>"
   ]
  },
  {
   "cell_type": "code",
   "execution_count": 10,
   "metadata": {
    "collapsed": false,
    "scrolled": false
   },
   "outputs": [
    {
     "data": {
      "text/plain": [
       "<seaborn.axisgrid.FacetGrid at 0xbad7a20>"
      ]
     },
     "execution_count": 10,
     "metadata": {},
     "output_type": "execute_result"
    },
    {
     "data": {
      "image/png": "[encoded data removed]",
      "text/plain": [
       "<matplotlib.figure.Figure at 0xbad7908>"
      ]
     },
     "metadata": {},
     "output_type": "display_data"
    }
   ],
   "source": [
    "# Percentage - number of survivors by gender and class \n",
    "# Comparison of survivors by sex and class\n",
    "\n",
    "# Histogram to display survivors grouped by sex and class\n",
    "variable_compare = sns.factorplot(x='Sex', y='Survived', col='Pclass', data=titanic_without_nan, \n",
    "                   saturation=.5, kind=\"bar\", ci=None, size=5, aspect=.8)\n",
    "# adding labels\n",
    "(variable_compare.set_axis_labels('', '% survivors')\n",
    "     .set_xticklabels(['Male', 'Female'])\n",
    "     .set_titles('Class {col_name}'))\n"
   ]
  },
  {
   "cell_type": "markdown",
   "metadata": {},
   "source": [
    "The graphs displayed above indicate that there was definitely higher chance of survival if you were <b>female</b> rather than male and an even higher chance of survival if you were part of the upper echelons of society. \n",
    "The graphs shown below confirm this analysis and indicate that there were more female survivors than male survivors overall, regardless of class. "
   ]
  },
  {
   "cell_type": "markdown",
   "metadata": {},
   "source": [
    "Next Question\n",
    "<p><b>Is there an increased chance of survival based on age?</b>\n",
    "</p>"
   ]
  },
  {
   "cell_type": "code",
   "execution_count": 11,
   "metadata": {
    "collapsed": false,
    "scrolled": true
   },
   "outputs": [
    {
     "name": "stdout",
     "output_type": "stream",
     "text": [
      "Number of non survivors less than a year old: 0\n",
      "Number of non survivors over 40: 95\n"
     ]
    }
   ],
   "source": [
    "# Analysis based on Age:\n",
    "\n",
    "# How about infant survival?\n",
    "\n",
    "infants = titanic_df[titanic_df['Age'] < 1]\n",
    "# print infants.head()\n",
    "\n",
    "# death count of children age < 1?\n",
    "\n",
    "non_survivors_infants = infants[infants['Survived'] == False]['Survived'].count()\n",
    "print \"Number of non survivors less than a year old: {}\".format(non_survivors_infants)\n",
    "\n",
    "# Number of survivors whose age is >40?\n",
    "\n",
    "old = titanic_without_nan[titanic_without_nan['Age'] > 40]\n",
    "# print old.count()\n",
    "non_survivors_seniors = old[old['Survived'] == False]['Survived'].count()\n",
    "print \"Number of non survivors over 40: {}\".format(non_survivors_seniors)\n"
   ]
  },
  {
   "cell_type": "code",
   "execution_count": 12,
   "metadata": {
    "collapsed": false
   },
   "outputs": [
    {
     "data": {
      "text/plain": [
       "<seaborn.axisgrid.FacetGrid at 0xbb3f048>"
      ]
     },
     "execution_count": 12,
     "metadata": {},
     "output_type": "execute_result"
    },
    {
     "data": {
      "image/png": "[encoded data removed]",
      "text/plain": [
       "<matplotlib.figure.Figure at 0xc103198>"
      ]
     },
     "metadata": {},
     "output_type": "display_data"
    }
   ],
   "source": [
    "graph_count_plotter(infants,'Survived','Sex','Pclass')\n",
    "# sns.factorplot('Survived', col='Sex', hue='Pclass', data=infants, kind='count', size=5, aspect=.8)"
   ]
  },
  {
   "cell_type": "code",
   "execution_count": 13,
   "metadata": {
    "collapsed": false
   },
   "outputs": [
    {
     "name": "stdout",
     "output_type": "stream",
     "text": [
      "Youngest to survive: 80.0 \n",
      "Youngest to die: 1.0 \n",
      "Oldest to survive: 80.0 \n",
      "Oldest to die: 74.0\n"
     ]
    }
   ],
   "source": [
    "# Taking a look at some survival rates for babies\n",
    "max_age_survived = titanic_without_nan[titanic_without_nan['Survived'] == True]['Age'].min()\n",
    "min_age_dead = titanic_without_nan[titanic_without_nan['Survived'] == False]['Age'].min()\n",
    "max_age_survived = titanic_without_nan[titanic_without_nan['Survived'] == True]['Age'].max()\n",
    "max_age_dead = titanic_without_nan[titanic_without_nan['Survived'] == False]['Age'].max()\n",
    "\n",
    "print 'Youngest to survive: {} \\nYoungest to die: {} \\nOldest to survive: {} \\nOldest to die: {}'.format(\n",
    "max_age_survived, min_age_dead, max_age_survived, max_age_dead)"
   ]
  },
  {
   "cell_type": "markdown",
   "metadata": {},
   "source": [
    "<p>\n",
    "This information gives us information about the age of survivors and non-survivors. There were not any reservations for the elderly or children beyond the age of 1. In the previous cell, it showed that there were children under the age of 1 that did survive the calamity. These survivors were from various classes, and in this case, were not higher in the 1st class when compared to survivors in other age groups. \n",
    "</p>"
   ]
  },
  {
   "cell_type": "code",
   "execution_count": 14,
   "metadata": {
    "collapsed": false
   },
   "outputs": [
    {
     "name": "stdout",
     "output_type": "stream",
     "text": [
      "Total number of survivors 342 \n",
      "Total number of non survivors 549 \n",
      "Mean age of survivors 28.0 \n",
      "Mean age of non survivors 30.0 \n",
      "Oldest to survive 80.0 \n",
      "Oldest that didn't make it 74.0\n"
     ]
    },
    {
     "data": {
      "text/plain": [
       "<seaborn.axisgrid.FacetGrid at 0xba60b00>"
      ]
     },
     "execution_count": 14,
     "metadata": {},
     "output_type": "execute_result"
    },
    {
     "data": {
      "image/png": "[encoded data removed]",
      "text/plain": [
       "<matplotlib.figure.Figure at 0xc38b518>"
      ]
     },
     "metadata": {},
     "output_type": "display_data"
    }
   ],
   "source": [
    "# Find total count of survivors and non-survivors\n",
    "survived_passengers = titanic_without_nan[titanic_without_nan['Survived'] == True]['Survived'].count()\n",
    "lost_souls = titanic_without_nan[titanic_without_nan['Survived'] == False]['Survived'].count()\n",
    "\n",
    "# Find average of survivors and those who didn't\n",
    "shipwreck_survivors = titanic_without_nan[titanic_without_nan['Survived'] == True]['Age'].mean()\n",
    "mean_age_died = titanic_without_nan[titanic_without_nan['Survived'] == False]['Age'].mean()\n",
    "\n",
    "# Display a few raw totals\n",
    "print \"Total number of survivors {} \\n\\\n",
    "Total number of non survivors {} \\n\\\n",
    "Mean age of survivors {} \\n\\\n",
    "Mean age of non survivors {} \\n\\\n",
    "Oldest to survive {} \\n\\\n",
    "Oldest that didn't make it {}\" \\\n",
    ".format(survived_passengers, lost_souls, np.round(shipwreck_survivors), \n",
    "        np.round(mean_age_died), max_age_survived, max_age_dead)\n",
    "\n",
    "# Graph - Age of passengers across sex of those who survived\n",
    "age_factorplot = sns.factorplot(x=\"Survived\", y=\"Age\", hue='Sex', data=titanic_without_nan, kind=\"box\", size=7, aspect=.8)\n",
    "\n",
    "# Fix up the labels\n",
    "(age_factorplot.set_axis_labels('Survivors', 'Age of Passengers')\n",
    "    .set_titles('Survival based on age of passengers')\n",
    "    .set_xticklabels([\"False\", \"True\"])\n",
    ")"
   ]
  },
  {
   "cell_type": "markdown",
   "metadata": {
    "collapsed": true
   },
   "source": [
    "As you denoted in the graph above, there were no advantages for seniority or if you were an infant. "
   ]
  },
  {
   "cell_type": "markdown",
   "metadata": {},
   "source": [
    "Next: <br> Did <b>women with children</b> have a better survival rate vs women <b>without</b> children (adults 18+)?"
   ]
  },
  {
   "cell_type": "code",
   "execution_count": 15,
   "metadata": {
    "collapsed": false
   },
   "outputs": [
    {
     "name": "stdout",
     "output_type": "stream",
     "text": [
      "Category  Survived\n",
      "Child     0            52\n",
      "          1            61\n",
      "Man       0           433\n",
      "          1            86\n",
      "Woman     0            64\n",
      "          1           195\n",
      "dtype: int64\n"
     ]
    },
    {
     "data": {
      "image/png": "[encoded data removed]",
      "text/plain": [
       "<matplotlib.figure.Figure at 0xc67f940>"
      ]
     },
     "metadata": {},
     "output_type": "display_data"
    }
   ],
   "source": [
    "# Create Cateogry column and categorize people\n",
    "titanic_without_nan.loc[\n",
    "    ( (titanic_without_nan['Sex'] == 'female') & \n",
    "    (titanic_without_nan['Age'] >= 18) ),\n",
    "    'Category'] = 'Woman'\n",
    "\n",
    "titanic_without_nan.loc[\n",
    "    ( (titanic_without_nan['Sex'] == 'male') & \n",
    "    (titanic_without_nan['Age'] >= 18) ),\n",
    "    'Category'] = 'Man'\n",
    "\n",
    "titanic_without_nan.loc[\n",
    "    (titanic_without_nan['Age'] < 18),\n",
    "    'Category'] = 'Child'\n",
    "\n",
    "# Get the totals grouped by Men, Women and Children, and by survival\n",
    "print titanic_without_nan.groupby(['Category','Survived']).size()\n",
    "\n",
    "# Graph - Compare survival count between Men, Women and Children\n",
    "g = sns.factorplot('Survived', col='Category', data=titanic_without_nan, kind='count', size=7, aspect=.8)\n",
    "\n",
    "# Fix up the labels\n",
    "(g.set_axis_labels('Survivors', 'No. of Passengers')\n",
    "    .set_xticklabels(['False', 'True'])\n",
    ")\n",
    "\n",
    "titles = ['Men', 'Women', 'Children']\n",
    "for ax, title in zip(g.axes.flat, titles):\n",
    "    ax.set_title(title)"
   ]
  },
  {
   "cell_type": "markdown",
   "metadata": {},
   "source": [
    "<p>\n",
    "The data and the graphs suggests that perhaps . It's a bit surprising that more children didn't survive but this could possibly be attributed to the mis-representation of what age is considered as the cut off for adults - i.e. if in the 1900's someone 15-17 were considered adults, they would not have been \"saved\" under the \"women and children first\" idea and would be made to fend for themselves. That would in turn, change the outcome of the above data and possible increase the number of children who survived.</p>"
   ]
  },
  {
   "cell_type": "code",
   "execution_count": 16,
   "metadata": {
    "collapsed": false
   },
   "outputs": [
    {
     "data": {
      "text/html": [
       "<div>\n",
       "<table border=\"1\" class=\"dataframe\">\n",
       "  <thead>\n",
       "    <tr style=\"text-align: right;\">\n",
       "      <th></th>\n",
       "      <th>Survived</th>\n",
       "      <th>Pclass</th>\n",
       "      <th>Sex</th>\n",
       "      <th>Age</th>\n",
       "      <th>SibSp</th>\n",
       "      <th>Parch</th>\n",
       "      <th>Fare</th>\n",
       "      <th>Category</th>\n",
       "    </tr>\n",
       "  </thead>\n",
       "  <tbody>\n",
       "    <tr>\n",
       "      <th>8</th>\n",
       "      <td>1</td>\n",
       "      <td>3</td>\n",
       "      <td>female</td>\n",
       "      <td>27.0</td>\n",
       "      <td>0</td>\n",
       "      <td>2</td>\n",
       "      <td>11.1333</td>\n",
       "      <td>Woman</td>\n",
       "    </tr>\n",
       "    <tr>\n",
       "      <th>25</th>\n",
       "      <td>1</td>\n",
       "      <td>3</td>\n",
       "      <td>female</td>\n",
       "      <td>38.0</td>\n",
       "      <td>1</td>\n",
       "      <td>5</td>\n",
       "      <td>31.3875</td>\n",
       "      <td>Woman</td>\n",
       "    </tr>\n",
       "    <tr>\n",
       "      <th>88</th>\n",
       "      <td>1</td>\n",
       "      <td>1</td>\n",
       "      <td>female</td>\n",
       "      <td>23.0</td>\n",
       "      <td>3</td>\n",
       "      <td>2</td>\n",
       "      <td>263.0000</td>\n",
       "      <td>Woman</td>\n",
       "    </tr>\n",
       "    <tr>\n",
       "      <th>98</th>\n",
       "      <td>1</td>\n",
       "      <td>2</td>\n",
       "      <td>female</td>\n",
       "      <td>34.0</td>\n",
       "      <td>0</td>\n",
       "      <td>1</td>\n",
       "      <td>23.0000</td>\n",
       "      <td>Woman</td>\n",
       "    </tr>\n",
       "    <tr>\n",
       "      <th>128</th>\n",
       "      <td>1</td>\n",
       "      <td>3</td>\n",
       "      <td>female</td>\n",
       "      <td>28.0</td>\n",
       "      <td>1</td>\n",
       "      <td>1</td>\n",
       "      <td>22.3583</td>\n",
       "      <td>Woman</td>\n",
       "    </tr>\n",
       "  </tbody>\n",
       "</table>\n",
       "</div>"
      ],
      "text/plain": [
       "     Survived  Pclass     Sex   Age  SibSp  Parch      Fare Category\n",
       "8           1       3  female  27.0      0      2   11.1333    Woman\n",
       "25          1       3  female  38.0      1      5   31.3875    Woman\n",
       "88          1       1  female  23.0      3      2  263.0000    Woman\n",
       "98          1       2  female  34.0      0      1   23.0000    Woman\n",
       "128         1       3  female  28.0      1      1   22.3583    Woman"
      ]
     },
     "execution_count": 16,
     "metadata": {},
     "output_type": "execute_result"
    }
   ],
   "source": [
    "# Determine number of woman that are not parents\n",
    "\n",
    "woman_parents = titanic_without_nan.loc[\n",
    "    (titanic_without_nan['Category'] == 'Woman') &\n",
    "    (titanic_without_nan['Parch'] > 0)] \n",
    "\n",
    "# Determine number of woman over 20 that are not parents\n",
    "\n",
    "woman_parents_maybe = titanic_without_nan.loc[\n",
    "    (titanic_without_nan['Category'] == 'Woman') &\n",
    "    (titanic_without_nan['Parch'] > 0) &\n",
    "    (titanic_without_nan['Age'] > 20)]\n",
    "\n",
    "woman_parents.head()"
   ]
  },
  {
   "cell_type": "code",
   "execution_count": 17,
   "metadata": {
    "collapsed": false
   },
   "outputs": [
    {
     "name": "stdout",
     "output_type": "stream",
     "text": [
      "PassengerId                                        679\n",
      "Survived                                             0\n",
      "Pclass                                               3\n",
      "Name           Goodwin, Mrs. Frederick (Augusta Tyler)\n",
      "Sex                                             female\n",
      "Age                                                 43\n",
      "SibSp                                                1\n",
      "Parch                                                6\n",
      "Ticket                                         CA 2144\n",
      "Fare                                              46.9\n",
      "Cabin                                              NaN\n",
      "Embarked                                             S\n",
      "Name: 678, dtype: object\n",
      "Total number of children with nannies: 32\n",
      "Children with nannies who survived: 16\n",
      "Children with nannies who did not survive: 16\n",
      "Percentage of children who survived: 50.0%\n",
      "Average age of surviving children: 15.0\n"
     ]
    },
    {
     "data": {
      "text/html": [
       "<div>\n",
       "<table border=\"1\" class=\"dataframe\">\n",
       "  <thead>\n",
       "    <tr style=\"text-align: right;\">\n",
       "      <th></th>\n",
       "      <th>Survived</th>\n",
       "      <th>Pclass</th>\n",
       "      <th>Sex</th>\n",
       "      <th>Age</th>\n",
       "      <th>SibSp</th>\n",
       "      <th>Parch</th>\n",
       "      <th>Fare</th>\n",
       "      <th>Category</th>\n",
       "    </tr>\n",
       "  </thead>\n",
       "  <tbody>\n",
       "    <tr>\n",
       "      <th>9</th>\n",
       "      <td>1</td>\n",
       "      <td>2</td>\n",
       "      <td>female</td>\n",
       "      <td>14.0</td>\n",
       "      <td>1</td>\n",
       "      <td>0</td>\n",
       "      <td>30.0708</td>\n",
       "      <td>Child</td>\n",
       "    </tr>\n",
       "    <tr>\n",
       "      <th>22</th>\n",
       "      <td>1</td>\n",
       "      <td>3</td>\n",
       "      <td>female</td>\n",
       "      <td>15.0</td>\n",
       "      <td>0</td>\n",
       "      <td>0</td>\n",
       "      <td>8.0292</td>\n",
       "      <td>Child</td>\n",
       "    </tr>\n",
       "    <tr>\n",
       "      <th>39</th>\n",
       "      <td>1</td>\n",
       "      <td>3</td>\n",
       "      <td>female</td>\n",
       "      <td>14.0</td>\n",
       "      <td>1</td>\n",
       "      <td>0</td>\n",
       "      <td>11.2417</td>\n",
       "      <td>Child</td>\n",
       "    </tr>\n",
       "    <tr>\n",
       "      <th>84</th>\n",
       "      <td>1</td>\n",
       "      <td>2</td>\n",
       "      <td>female</td>\n",
       "      <td>17.0</td>\n",
       "      <td>0</td>\n",
       "      <td>0</td>\n",
       "      <td>10.5000</td>\n",
       "      <td>Child</td>\n",
       "    </tr>\n",
       "    <tr>\n",
       "      <th>125</th>\n",
       "      <td>1</td>\n",
       "      <td>3</td>\n",
       "      <td>male</td>\n",
       "      <td>12.0</td>\n",
       "      <td>1</td>\n",
       "      <td>0</td>\n",
       "      <td>11.2417</td>\n",
       "      <td>Child</td>\n",
       "    </tr>\n",
       "    <tr>\n",
       "      <th>156</th>\n",
       "      <td>1</td>\n",
       "      <td>3</td>\n",
       "      <td>female</td>\n",
       "      <td>16.0</td>\n",
       "      <td>0</td>\n",
       "      <td>0</td>\n",
       "      <td>7.7333</td>\n",
       "      <td>Child</td>\n",
       "    </tr>\n",
       "    <tr>\n",
       "      <th>208</th>\n",
       "      <td>1</td>\n",
       "      <td>3</td>\n",
       "      <td>female</td>\n",
       "      <td>16.0</td>\n",
       "      <td>0</td>\n",
       "      <td>0</td>\n",
       "      <td>7.7500</td>\n",
       "      <td>Child</td>\n",
       "    </tr>\n",
       "    <tr>\n",
       "      <th>220</th>\n",
       "      <td>1</td>\n",
       "      <td>3</td>\n",
       "      <td>male</td>\n",
       "      <td>16.0</td>\n",
       "      <td>0</td>\n",
       "      <td>0</td>\n",
       "      <td>8.0500</td>\n",
       "      <td>Child</td>\n",
       "    </tr>\n",
       "    <tr>\n",
       "      <th>307</th>\n",
       "      <td>1</td>\n",
       "      <td>1</td>\n",
       "      <td>female</td>\n",
       "      <td>17.0</td>\n",
       "      <td>1</td>\n",
       "      <td>0</td>\n",
       "      <td>108.9000</td>\n",
       "      <td>Child</td>\n",
       "    </tr>\n",
       "    <tr>\n",
       "      <th>389</th>\n",
       "      <td>1</td>\n",
       "      <td>2</td>\n",
       "      <td>female</td>\n",
       "      <td>17.0</td>\n",
       "      <td>0</td>\n",
       "      <td>0</td>\n",
       "      <td>12.0000</td>\n",
       "      <td>Child</td>\n",
       "    </tr>\n",
       "    <tr>\n",
       "      <th>504</th>\n",
       "      <td>1</td>\n",
       "      <td>1</td>\n",
       "      <td>female</td>\n",
       "      <td>16.0</td>\n",
       "      <td>0</td>\n",
       "      <td>0</td>\n",
       "      <td>86.5000</td>\n",
       "      <td>Child</td>\n",
       "    </tr>\n",
       "    <tr>\n",
       "      <th>777</th>\n",
       "      <td>1</td>\n",
       "      <td>3</td>\n",
       "      <td>female</td>\n",
       "      <td>5.0</td>\n",
       "      <td>0</td>\n",
       "      <td>0</td>\n",
       "      <td>12.4750</td>\n",
       "      <td>Child</td>\n",
       "    </tr>\n",
       "    <tr>\n",
       "      <th>780</th>\n",
       "      <td>1</td>\n",
       "      <td>3</td>\n",
       "      <td>female</td>\n",
       "      <td>13.0</td>\n",
       "      <td>0</td>\n",
       "      <td>0</td>\n",
       "      <td>7.2292</td>\n",
       "      <td>Child</td>\n",
       "    </tr>\n",
       "    <tr>\n",
       "      <th>781</th>\n",
       "      <td>1</td>\n",
       "      <td>1</td>\n",
       "      <td>female</td>\n",
       "      <td>17.0</td>\n",
       "      <td>1</td>\n",
       "      <td>0</td>\n",
       "      <td>57.0000</td>\n",
       "      <td>Child</td>\n",
       "    </tr>\n",
       "    <tr>\n",
       "      <th>830</th>\n",
       "      <td>1</td>\n",
       "      <td>3</td>\n",
       "      <td>female</td>\n",
       "      <td>15.0</td>\n",
       "      <td>1</td>\n",
       "      <td>0</td>\n",
       "      <td>14.4542</td>\n",
       "      <td>Child</td>\n",
       "    </tr>\n",
       "    <tr>\n",
       "      <th>875</th>\n",
       "      <td>1</td>\n",
       "      <td>3</td>\n",
       "      <td>female</td>\n",
       "      <td>15.0</td>\n",
       "      <td>0</td>\n",
       "      <td>0</td>\n",
       "      <td>7.2250</td>\n",
       "      <td>Child</td>\n",
       "    </tr>\n",
       "  </tbody>\n",
       "</table>\n",
       "</div>"
      ],
      "text/plain": [
       "     Survived  Pclass     Sex   Age  SibSp  Parch      Fare Category\n",
       "9           1       2  female  14.0      1      0   30.0708    Child\n",
       "22          1       3  female  15.0      0      0    8.0292    Child\n",
       "39          1       3  female  14.0      1      0   11.2417    Child\n",
       "84          1       2  female  17.0      0      0   10.5000    Child\n",
       "125         1       3    male  12.0      1      0   11.2417    Child\n",
       "156         1       3  female  16.0      0      0    7.7333    Child\n",
       "208         1       3  female  16.0      0      0    7.7500    Child\n",
       "220         1       3    male  16.0      0      0    8.0500    Child\n",
       "307         1       1  female  17.0      1      0  108.9000    Child\n",
       "389         1       2  female  17.0      0      0   12.0000    Child\n",
       "504         1       1  female  16.0      0      0   86.5000    Child\n",
       "777         1       3  female   5.0      0      0   12.4750    Child\n",
       "780         1       3  female  13.0      0      0    7.2292    Child\n",
       "781         1       1  female  17.0      1      0   57.0000    Child\n",
       "830         1       3  female  15.0      1      0   14.4542    Child\n",
       "875         1       3  female  15.0      0      0    7.2250    Child"
      ]
     },
     "execution_count": 17,
     "metadata": {},
     "output_type": "execute_result"
    }
   ],
   "source": [
    "# individual with max children (Parch) survival? \n",
    "\n",
    "print titanic_df.loc[titanic_df['Parch'].idxmax()]\n",
    "\n",
    "# Separate out children with parents from those with nannies \n",
    "titanic_data_children_nannies = titanic_without_nan.loc[\n",
    "    (titanic_without_nan['Category'] == 'Child') &\n",
    "    (titanic_without_nan['Parch'] == 0)] # Adds extra category -> Child\n",
    "\n",
    "titanic_data_children_parents = titanic_without_nan.loc[\n",
    "    (titanic_without_nan['Category'] == 'Child') &\n",
    "    (titanic_without_nan['Parch'] > 0)]\n",
    "\n",
    "# Determine children with nannies who survived and who did not\n",
    "survived_children_nannies = titanic_data_children_nannies.Survived.sum()\n",
    "total_children_nannies = titanic_data_children_nannies.Survived.count()\n",
    "pct_survived_nannies = ((float(survived_children_nannies)/total_children_nannies)*100)\n",
    "pct_survived_nannies = np.round(pct_survived_nannies,2)\n",
    "survived_children_nannies_avg_age = np.round(titanic_data_children_nannies.Age.mean())\n",
    "\n",
    "# Display results\n",
    "print 'Total number of children with nannies: {}\\n\\\n",
    "Children with nannies who survived: {}\\n\\\n",
    "Children with nannies who did not survive: {}\\n\\\n",
    "Percentage of children who survived: {}%\\n\\\n",
    "Average age of surviving children: {}'\\\n",
    ".format(total_children_nannies, survived_children_nannies, \n",
    "        total_children_nannies-survived_children_nannies, pct_survived_nannies, survived_children_nannies_avg_age)\n",
    "\n",
    "# Verify counts (looked a bit too evenly divided)\n",
    "titanic_data_children_nannies.loc[titanic_data_children_nannies['Survived'] == 1]"
   ]
  },
  {
   "cell_type": "code",
   "execution_count": 18,
   "metadata": {
    "collapsed": false
   },
   "outputs": [
    {
     "data": {
      "text/html": [
       "<div>\n",
       "<table border=\"1\" class=\"dataframe\">\n",
       "  <thead>\n",
       "    <tr style=\"text-align: right;\">\n",
       "      <th></th>\n",
       "      <th>FamilySize</th>\n",
       "      <th>Family_Single</th>\n",
       "      <th>Family_Small</th>\n",
       "      <th>Family_Large</th>\n",
       "    </tr>\n",
       "  </thead>\n",
       "  <tbody>\n",
       "    <tr>\n",
       "      <th>886</th>\n",
       "      <td>1</td>\n",
       "      <td>1</td>\n",
       "      <td>0</td>\n",
       "      <td>0</td>\n",
       "    </tr>\n",
       "    <tr>\n",
       "      <th>887</th>\n",
       "      <td>1</td>\n",
       "      <td>1</td>\n",
       "      <td>0</td>\n",
       "      <td>0</td>\n",
       "    </tr>\n",
       "    <tr>\n",
       "      <th>888</th>\n",
       "      <td>4</td>\n",
       "      <td>0</td>\n",
       "      <td>1</td>\n",
       "      <td>0</td>\n",
       "    </tr>\n",
       "    <tr>\n",
       "      <th>889</th>\n",
       "      <td>1</td>\n",
       "      <td>1</td>\n",
       "      <td>0</td>\n",
       "      <td>0</td>\n",
       "    </tr>\n",
       "    <tr>\n",
       "      <th>890</th>\n",
       "      <td>1</td>\n",
       "      <td>1</td>\n",
       "      <td>0</td>\n",
       "      <td>0</td>\n",
       "    </tr>\n",
       "  </tbody>\n",
       "</table>\n",
       "</div>"
      ],
      "text/plain": [
       "     FamilySize  Family_Single  Family_Small  Family_Large\n",
       "886           1              1             0             0\n",
       "887           1              1             0             0\n",
       "888           4              0             1             0\n",
       "889           1              1             0             0\n",
       "890           1              1             0             0"
      ]
     },
     "execution_count": 18,
     "metadata": {},
     "output_type": "execute_result"
    }
   ],
   "source": [
    "# creating dataframe for family size\n",
    "family = pd.DataFrame()\n",
    "\n",
    "# introducing a new feature : the size of families (including the passenger)\n",
    "family[ 'FamilySize' ] = titanic_df[ 'Parch' ] + titanic_df[ 'SibSp' ] + 1\n",
    "\n",
    "# introducing other features based on the family size\n",
    "family[ 'Family_Single' ] = family[ 'FamilySize' ].map( lambda s : 1 if s == 1 else 0 )\n",
    "family[ 'Family_Small' ]  = family[ 'FamilySize' ].map( lambda s : 1 if 2 <= s <= 4 else 0 )\n",
    "family[ 'Family_Large' ]  = family[ 'FamilySize' ].map( lambda s : 1 if 5 <= s else 0 )\n",
    "titanic_fam_size_included = pd.concat([titanic_df,family],keys=['Parch','FamilySize'],axis=1)\n",
    "family.tail()\n",
    "# plot_distribution( ) "
   ]
  },
  {
   "cell_type": "code",
   "execution_count": 19,
   "metadata": {
    "collapsed": false
   },
   "outputs": [
    {
     "name": "stdout",
     "output_type": "stream",
     "text": [
      "Total number of children with parents: 81\n",
      "Children with parents who survived: 45\n",
      "Children with parents who did not survive: 36\n",
      "Percentage of children who survived: 55.56%\n",
      "Average age of surviving children: 7.0\n",
      "-----\n"
     ]
    }
   ],
   "source": [
    "# Determine children with parents who survived and who did not\n",
    "survived_children_parents = titanic_data_children_parents.Survived.sum()\n",
    "total_children_parents = titanic_data_children_parents.Survived.count()\n",
    "pct_survived_parents = ((float(survived_children_parents)/total_children_parents)*100)\n",
    "pct_survived_parents = np.round(pct_survived_parents,2)\n",
    "survived_children_parents_avg_age = np.round(titanic_data_children_parents.Age.mean())\n",
    "\n",
    "# Display results\n",
    "print 'Total number of children with parents: {}\\n\\\n",
    "Children with parents who survived: {}\\n\\\n",
    "Children with parents who did not survive: {}\\n\\\n",
    "Percentage of children who survived: {}%\\n\\\n",
    "Average age of surviving children: {}'\\\n",
    ".format(total_children_parents, survived_children_parents, \n",
    "        total_children_parents-survived_children_parents, pct_survived_parents,survived_children_parents_avg_age)\n",
    "print \"-----\"\n",
    "# print survived_children_nannies.max()"
   ]
  },
  {
   "cell_type": "markdown",
   "metadata": {},
   "source": [
    "<h1>Miscellaneous Questions</h1>\n",
    "<p>\n",
    "Is there any correlation between the location of departure (embarked) and the survivors?</p>"
   ]
  },
  {
   "cell_type": "code",
   "execution_count": 20,
   "metadata": {
    "collapsed": false
   },
   "outputs": [
    {
     "data": {
      "image/png": "[encoded data removed]",
      "text/plain": [
       "<matplotlib.figure.Figure at 0xc38b358>"
      ]
     },
     "metadata": {},
     "output_type": "display_data"
    }
   ],
   "source": [
    "# Investigating correlation between Survivors, class and location of departure and potential ties to royalty\n",
    "\n",
    "# Visualizing social status bias in survival\n",
    "plot_categories(titanic_df, cat = 'Embarked', target = 'Survived')\n"
   ]
  },
  {
   "cell_type": "code",
   "execution_count": 21,
   "metadata": {
    "collapsed": false
   },
   "outputs": [
    {
     "name": "stdout",
     "output_type": "stream",
     "text": [
      "   Survived  Pclass                                               Name  \\\n",
      "0         0       3                            Braund, Mr. Owen Harris   \n",
      "1         1       1  Cumings, Mrs. John Bradley (Florence Briggs Th...   \n",
      "2         1       3                             Heikkinen, Miss. Laina   \n",
      "3         1       1       Futrelle, Mrs. Jacques Heath (Lily May Peel)   \n",
      "4         0       3                           Allen, Mr. William Henry   \n",
      "\n",
      "      Sex   Age  SibSp  Parch     Fare Cabin Embarked  \n",
      "0    male  22.0      1      0   7.2500   NaN        S  \n",
      "1  female  38.0      1      0  71.2833   C85        C  \n",
      "2  female  26.0      0      0   7.9250   NaN        S  \n",
      "3  female  35.0      1      0  53.1000  C123        S  \n",
      "4    male  35.0      0      0   8.0500   NaN        S  \n"
     ]
    },
    {
     "data": {
      "text/plain": [
       "<seaborn.axisgrid.FacetGrid at 0xba60978>"
      ]
     },
     "execution_count": 21,
     "metadata": {},
     "output_type": "execute_result"
    },
    {
     "data": {
      "image/png": "[encoded data removed]",
      "text/plain": [
       "<matplotlib.figure.Figure at 0xc39f5c0>"
      ]
     },
     "metadata": {},
     "output_type": "display_data"
    }
   ],
   "source": [
    "embarked_info = titanic_df.drop(['Ticket','PassengerId'], axis=1)\n",
    "print embarked_info.head()\n",
    "graph_count_plotter(embarked_info,'Embarked','Sex','Pclass')\n"
   ]
  },
  {
   "cell_type": "markdown",
   "metadata": {},
   "source": [
    "<p>From the information displayed above shows the total number of passengers of each class and gender from each port. We can see that most of the passengers were from the Southhampton(S) port of departure. A great majority of them were from the working class (3). A significant number of Upper and middle class passengers were from this region as well. Now let's see how many lived to tell the tale.</p>"
   ]
  },
  {
   "cell_type": "code",
   "execution_count": 22,
   "metadata": {
    "collapsed": false
   },
   "outputs": [
    {
     "data": {
      "text/plain": [
       "<seaborn.axisgrid.FacetGrid at 0xec70358>"
      ]
     },
     "execution_count": 22,
     "metadata": {},
     "output_type": "execute_result"
    },
    {
     "data": {
      "image/png": "[encoded data removed]",
      "text/plain": [
       "<matplotlib.figure.Figure at 0xe89fa20>"
      ]
     },
     "metadata": {},
     "output_type": "display_data"
    }
   ],
   "source": [
    "embarked_survivors = embarked_info[embarked_info['Survived']==True]\n",
    "g = graph_count_plotter(embarked_survivors, 'Embarked', 'Sex', 'Pclass')\n",
    "(g.set_axis_labels('Departure', 'number of survivors')\n",
    "     .set_titles('{col_name}'))"
   ]
  },
  {
   "cell_type": "markdown",
   "metadata": {},
   "source": [
    "<p>The details in the graph above describes the number of survivors with respect to their class and port of departure. It reconfirms our data that the survivors were mostly female and from the upper class(1) to middle class(2) coming from Cherbourg (C)and Southampton (S) and the worker class(3) survivors were primarily from Southampton (S) and Queenstown (Q). This could be attributed to the fact that majority of the passengers were from S. </p>\n",
    "<p>\n",
    "It appears that there may not be much significance in this finding since a majority of the passengers were from Southampton survival based on port of departure could be due to pure luck. However, further investigation could be done to study the relation between the cabin number and position of life boats to determine likelihood of survival. "
   ]
  },
  {
   "cell_type": "markdown",
   "metadata": {
    "collapsed": true
   },
   "source": [
    "<h1>Conclusion</h1>\n",
    "<p>\n",
    "In the given scenario, my findings in this workbook suggests that if you were female, and of a higher status in society you would have had a higher chance of survival as compared to being from the working class. \n",
    "</p>"
   ]
  }
 ],
 "metadata": {
  "anaconda-cloud": {},
  "kernelspec": {
   "display_name": "Python [conda root]",
   "language": "python",
   "name": "conda-root-py"
  },
  "language_info": {
   "codemirror_mode": {
    "name": "ipython",
    "version": 2
   },
   "file_extension": ".py",
   "mimetype": "text/x-python",
   "name": "python",
   "nbconvert_exporter": "python",
   "pygments_lexer": "ipython2",
   "version": "2.7.12"
  }
 },
 "nbformat": 4,
 "nbformat_minor": 1
}
